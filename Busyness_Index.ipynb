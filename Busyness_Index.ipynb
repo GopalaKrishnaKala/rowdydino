{
 "cells": [
  {
   "cell_type": "code",
   "execution_count": 1,
   "id": "12c2e46e",
   "metadata": {},
   "outputs": [],
   "source": [
    "def get_busyness(startDate, n, csv_filename):\n",
    "  ''' get_busyness: \n",
    "      returns a 'busyness index' from 0-10\n",
    "      averaged over trip days \n",
    "  '''\n",
    "  busy_df = pd.read_csv(csv_filename, index_col='Date')\n",
    "  #print(busy_df)\n",
    "\n",
    "  busytotal = 0.0\n",
    "  busycount = 0\n",
    "\n",
    "  for i in range(0,n):\n",
    "    #\n",
    "    busy = busy_df.loc[startDate.strftime('%Y-%m-%d')].values[0]\n",
    "    if busy != 0:\n",
    "      busycount += 1\n",
    "      busytotal += busy\n",
    "    startDate += timedelta(days=1)\n",
    "  if busycount == 0:\n",
    "    return 0\n",
    "  return round(((busytotal/busycount)*(10/55)))"
   ]
  },
  {
   "cell_type": "code",
   "execution_count": 2,
   "id": "659a292e",
   "metadata": {},
   "outputs": [
    {
     "name": "stdout",
     "output_type": "stream",
     "text": [
      "2\n"
     ]
    }
   ],
   "source": [
    "from datetime import datetime, timedelta\n",
    "import pandas as pd\n",
    "\n",
    "startDate = datetime(2024,2,2)\n",
    "n = 7\n",
    "csv_filename='thrill-data-sixflags (2).csv'\n",
    "\n",
    "busyness = get_busyness(startDate, n, csv_filename)\n",
    "print(busyness)"
   ]
  },
  {
   "cell_type": "code",
   "execution_count": null,
   "id": "3127b193",
   "metadata": {},
   "outputs": [],
   "source": []
  }
 ],
 "metadata": {
  "kernelspec": {
   "display_name": "Python 3 (ipykernel)",
   "language": "python",
   "name": "python3"
  },
  "language_info": {
   "codemirror_mode": {
    "name": "ipython",
    "version": 3
   },
   "file_extension": ".py",
   "mimetype": "text/x-python",
   "name": "python",
   "nbconvert_exporter": "python",
   "pygments_lexer": "ipython3",
   "version": "3.10.10"
  }
 },
 "nbformat": 4,
 "nbformat_minor": 5
}
